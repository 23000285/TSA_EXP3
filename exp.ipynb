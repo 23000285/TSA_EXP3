{
 "cells": [
  {
   "cell_type": "code",
   "execution_count": 56,
   "id": "191b64ad",
   "metadata": {},
   "outputs": [],
   "source": [
    "import pandas as pd\n",
    "import numpy as np\n",
    "import matplotlib.pyplot as plt\n",
    "from sklearn.linear_model import LinearRegression\n",
    "from sklearn.preprocessing import PolynomialFeatures\n",
    "from sklearn.metrics import mean_squared_error, mean_absolute_error, r2_score"
   ]
  },
  {
   "cell_type": "code",
   "execution_count": 57,
   "id": "671ad313",
   "metadata": {},
   "outputs": [
    {
     "data": {
      "text/html": [
       "<div>\n",
       "<style scoped>\n",
       "    .dataframe tbody tr th:only-of-type {\n",
       "        vertical-align: middle;\n",
       "    }\n",
       "\n",
       "    .dataframe tbody tr th {\n",
       "        vertical-align: top;\n",
       "    }\n",
       "\n",
       "    .dataframe thead th {\n",
       "        text-align: right;\n",
       "    }\n",
       "</style>\n",
       "<table border=\"1\" class=\"dataframe\">\n",
       "  <thead>\n",
       "    <tr style=\"text-align: right;\">\n",
       "      <th></th>\n",
       "      <th>Formatted Date</th>\n",
       "      <th>Summary</th>\n",
       "      <th>Precip Type</th>\n",
       "      <th>Temperature (C)</th>\n",
       "      <th>Apparent Temperature (C)</th>\n",
       "      <th>Humidity</th>\n",
       "      <th>Wind Speed (km/h)</th>\n",
       "      <th>Wind Bearing (degrees)</th>\n",
       "      <th>Visibility (km)</th>\n",
       "      <th>Loud Cover</th>\n",
       "      <th>Pressure (millibars)</th>\n",
       "      <th>Daily Summary</th>\n",
       "    </tr>\n",
       "  </thead>\n",
       "  <tbody>\n",
       "    <tr>\n",
       "      <th>0</th>\n",
       "      <td>2006-04-01 00:00:00.000 +0200</td>\n",
       "      <td>Partly Cloudy</td>\n",
       "      <td>rain</td>\n",
       "      <td>9.472222</td>\n",
       "      <td>7.388889</td>\n",
       "      <td>0.89</td>\n",
       "      <td>14.1197</td>\n",
       "      <td>251.0</td>\n",
       "      <td>15.8263</td>\n",
       "      <td>0.0</td>\n",
       "      <td>1015.13</td>\n",
       "      <td>Partly cloudy throughout the day.</td>\n",
       "    </tr>\n",
       "    <tr>\n",
       "      <th>1</th>\n",
       "      <td>2006-04-01 01:00:00.000 +0200</td>\n",
       "      <td>Partly Cloudy</td>\n",
       "      <td>rain</td>\n",
       "      <td>9.355556</td>\n",
       "      <td>7.227778</td>\n",
       "      <td>0.86</td>\n",
       "      <td>14.2646</td>\n",
       "      <td>259.0</td>\n",
       "      <td>15.8263</td>\n",
       "      <td>0.0</td>\n",
       "      <td>1015.63</td>\n",
       "      <td>Partly cloudy throughout the day.</td>\n",
       "    </tr>\n",
       "    <tr>\n",
       "      <th>2</th>\n",
       "      <td>2006-04-01 02:00:00.000 +0200</td>\n",
       "      <td>Mostly Cloudy</td>\n",
       "      <td>rain</td>\n",
       "      <td>9.377778</td>\n",
       "      <td>9.377778</td>\n",
       "      <td>0.89</td>\n",
       "      <td>3.9284</td>\n",
       "      <td>204.0</td>\n",
       "      <td>14.9569</td>\n",
       "      <td>0.0</td>\n",
       "      <td>1015.94</td>\n",
       "      <td>Partly cloudy throughout the day.</td>\n",
       "    </tr>\n",
       "    <tr>\n",
       "      <th>3</th>\n",
       "      <td>2006-04-01 03:00:00.000 +0200</td>\n",
       "      <td>Partly Cloudy</td>\n",
       "      <td>rain</td>\n",
       "      <td>8.288889</td>\n",
       "      <td>5.944444</td>\n",
       "      <td>0.83</td>\n",
       "      <td>14.1036</td>\n",
       "      <td>269.0</td>\n",
       "      <td>15.8263</td>\n",
       "      <td>0.0</td>\n",
       "      <td>1016.41</td>\n",
       "      <td>Partly cloudy throughout the day.</td>\n",
       "    </tr>\n",
       "    <tr>\n",
       "      <th>4</th>\n",
       "      <td>2006-04-01 04:00:00.000 +0200</td>\n",
       "      <td>Mostly Cloudy</td>\n",
       "      <td>rain</td>\n",
       "      <td>8.755556</td>\n",
       "      <td>6.977778</td>\n",
       "      <td>0.83</td>\n",
       "      <td>11.0446</td>\n",
       "      <td>259.0</td>\n",
       "      <td>15.8263</td>\n",
       "      <td>0.0</td>\n",
       "      <td>1016.51</td>\n",
       "      <td>Partly cloudy throughout the day.</td>\n",
       "    </tr>\n",
       "  </tbody>\n",
       "</table>\n",
       "</div>"
      ],
      "text/plain": [
       "                  Formatted Date        Summary Precip Type  Temperature (C)  \\\n",
       "0  2006-04-01 00:00:00.000 +0200  Partly Cloudy        rain         9.472222   \n",
       "1  2006-04-01 01:00:00.000 +0200  Partly Cloudy        rain         9.355556   \n",
       "2  2006-04-01 02:00:00.000 +0200  Mostly Cloudy        rain         9.377778   \n",
       "3  2006-04-01 03:00:00.000 +0200  Partly Cloudy        rain         8.288889   \n",
       "4  2006-04-01 04:00:00.000 +0200  Mostly Cloudy        rain         8.755556   \n",
       "\n",
       "   Apparent Temperature (C)  Humidity  Wind Speed (km/h)  \\\n",
       "0                  7.388889      0.89            14.1197   \n",
       "1                  7.227778      0.86            14.2646   \n",
       "2                  9.377778      0.89             3.9284   \n",
       "3                  5.944444      0.83            14.1036   \n",
       "4                  6.977778      0.83            11.0446   \n",
       "\n",
       "   Wind Bearing (degrees)  Visibility (km)  Loud Cover  Pressure (millibars)  \\\n",
       "0                   251.0          15.8263         0.0               1015.13   \n",
       "1                   259.0          15.8263         0.0               1015.63   \n",
       "2                   204.0          14.9569         0.0               1015.94   \n",
       "3                   269.0          15.8263         0.0               1016.41   \n",
       "4                   259.0          15.8263         0.0               1016.51   \n",
       "\n",
       "                       Daily Summary  \n",
       "0  Partly cloudy throughout the day.  \n",
       "1  Partly cloudy throughout the day.  \n",
       "2  Partly cloudy throughout the day.  \n",
       "3  Partly cloudy throughout the day.  \n",
       "4  Partly cloudy throughout the day.  "
      ]
     },
     "execution_count": 57,
     "metadata": {},
     "output_type": "execute_result"
    }
   ],
   "source": [
    "df = pd.read_csv(\"weatherHistory.csv\")\n",
    "df.head()"
   ]
  },
  {
   "cell_type": "code",
   "execution_count": 58,
   "id": "74a7021a",
   "metadata": {},
   "outputs": [],
   "source": [
    "# Convert date safely\n",
    "df['Formatted Date'] = pd.to_datetime(df['Formatted Date'], utc=True, errors='coerce')\n",
    "\n",
    "# Create YearFrac column\n",
    "df['YearFrac'] = df['Formatted Date'].dt.year + (df['Formatted Date'].dt.dayofyear / 365)\n",
    "\n",
    "# Drop rows with missing Temperature or YearFrac\n",
    "df = df.dropna(subset=['Temperature (C)', 'YearFrac'])\n",
    "\n",
    "# Define X and y\n",
    "X_vals = df['YearFrac'].values.reshape(-1, 1)\n",
    "data = df['Temperature (C)'].values"
   ]
  },
  {
   "cell_type": "code",
   "execution_count": 59,
   "id": "61eff5d4",
   "metadata": {},
   "outputs": [],
   "source": [
    "# ---- Linear Regression ----\n",
    "lin_model = LinearRegression()\n",
    "lin_model.fit(X_vals, data)\n",
    "linear_pred = lin_model.predict(X_vals)\n",
    "\n",
    "# ---- Polynomial Regression (Degree 2) ----\n",
    "poly2 = PolynomialFeatures(degree=2, include_bias=False)\n",
    "X_poly2 = poly2.fit_transform(X_vals)\n",
    "poly2_model = LinearRegression()\n",
    "poly2_model.fit(X_poly2, data)\n",
    "poly2_pred = poly2_model.predict(X_poly2)\n"
   ]
  },
  {
   "cell_type": "code",
   "execution_count": 60,
   "id": "9c6f996c",
   "metadata": {},
   "outputs": [],
   "source": [
    "# ---- Autocorrelation ----\n",
    "N = len(data)\n",
    "lags = range(35)\n",
    "autocorr_values = []\n",
    "mean_data = np.mean(data)\n",
    "variance_data = np.var(data)"
   ]
  },
  {
   "cell_type": "code",
   "execution_count": 61,
   "id": "17e8aa98",
   "metadata": {},
   "outputs": [],
   "source": [
    "for lag in lags:\n",
    "    if lag == 0:\n",
    "        autocorr_values.append(1)\n",
    "    else:\n",
    "        auto_cov = np.sum((data[:-lag] - mean_data) * (data[lag:] - mean_data)) / N\n",
    "        autocorr_values.append(auto_cov / variance_data)"
   ]
  },
  {
   "cell_type": "code",
   "execution_count": 62,
   "id": "c08e4e16",
   "metadata": {},
   "outputs": [
    {
     "name": "stderr",
     "output_type": "stream",
     "text": [
      "C:\\Users\\admin\\AppData\\Local\\Temp\\ipykernel_20420\\737742966.py:2: MatplotlibDeprecationWarning: The 'use_line_collection' parameter of stem() was deprecated in Matplotlib 3.6 and will be removed two minor releases later. If any parameter follows 'use_line_collection', they should be passed as keyword, not positionally.\n",
      "  plt.stem(lags, autocorr_values, use_line_collection=True)\n"
     ]
    },
    {
     "data": {
      "image/png": "[encoded data removed]",
      "text/plain": [
       "<Figure size 1000x600 with 1 Axes>"
      ]
     },
     "metadata": {},
     "output_type": "display_data"
    }
   ],
   "source": [
    "plt.figure(figsize=(10, 6))\n",
    "plt.stem(lags, autocorr_values, use_line_collection=True)\n",
    "plt.title(\"Autocorrelation of Temperature Data\")\n",
    "plt.xlabel(\"Lag (years)\")\n",
    "plt.ylabel(\"Autocorrelation\")\n",
    "plt.grid(True)\n",
    "plt.show()"
   ]
  },
  {
   "cell_type": "code",
   "execution_count": 63,
   "id": "fccc8f17",
   "metadata": {},
   "outputs": [
    {
     "name": "stdout",
     "output_type": "stream",
     "text": [
      "Lag\tAutocorrelation\n",
      "0\t1.0000\n",
      "1\t0.9867\n",
      "2\t0.9655\n",
      "3\t0.9369\n",
      "4\t0.9032\n",
      "5\t0.8670\n",
      "6\t0.8304\n",
      "7\t0.7951\n",
      "8\t0.7626\n",
      "9\t0.7343\n",
      "10\t0.7115\n",
      "11\t0.6954\n",
      "12\t0.6870\n",
      "13\t0.6865\n",
      "14\t0.6935\n",
      "15\t0.7071\n",
      "16\t0.7259\n",
      "17\t0.7488\n",
      "18\t0.7743\n",
      "19\t0.8008\n",
      "20\t0.8265\n",
      "21\t0.8497\n",
      "22\t0.8680\n",
      "23\t0.8792\n",
      "24\t0.8809\n",
      "25\t0.8736\n",
      "26\t0.8568\n",
      "27\t0.8329\n",
      "28\t0.8042\n",
      "29\t0.7727\n",
      "30\t0.7405\n",
      "31\t0.7093\n",
      "32\t0.6806\n",
      "33\t0.6558\n",
      "34\t0.6361\n"
     ]
    }
   ],
   "source": [
    "print(\"Lag\\tAutocorrelation\")\n",
    "for lag, val in zip(lags, autocorr_values):\n",
    "    print(f\"{lag}\\t{val:.4f}\")"
   ]
  }
 ],
 "metadata": {
  "kernelspec": {
   "display_name": "base",
   "language": "python",
   "name": "python3"
  },
  "language_info": {
   "codemirror_mode": {
    "name": "ipython",
    "version": 3
   },
   "file_extension": ".py",
   "mimetype": "text/x-python",
   "name": "python",
   "nbconvert_exporter": "python",
   "pygments_lexer": "ipython3",
   "version": "3.11.3"
  }
 },
 "nbformat": 4,
 "nbformat_minor": 5
}
